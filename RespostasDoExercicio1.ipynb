{
  "nbformat": 4,
  "nbformat_minor": 0,
  "metadata": {
    "colab": {
      "provenance": [],
      "authorship_tag": "ABX9TyM0NQWxounXwHG06tiLMYTy",
      "include_colab_link": true
    },
    "kernelspec": {
      "name": "python3",
      "display_name": "Python 3"
    },
    "language_info": {
      "name": "python"
    }
  },
  "cells": [
    {
      "cell_type": "markdown",
      "metadata": {
        "id": "view-in-github",
        "colab_type": "text"
      },
      "source": [
        "<a href=\"https://colab.research.google.com/github/mcds04/CV---MCDS/blob/main/RespostasDoExercicio1.ipynb\" target=\"_parent\"><img src=\"https://colab.research.google.com/assets/colab-badge.svg\" alt=\"Open In Colab\"/></a>"
      ]
    },
    {
      "cell_type": "code",
      "source": [
        "nome = (\"Cris \")\n",
        "print(\"Seu nome é\", nome)\n"
      ],
      "metadata": {
        "colab": {
          "base_uri": "https://localhost:8080/"
        },
        "id": "ziguu9GvNk7f",
        "outputId": "1613e7bc-ce21-4341-94ad-64f912771f6d"
      },
      "execution_count": null,
      "outputs": [
        {
          "output_type": "stream",
          "name": "stdout",
          "text": [
            "Seu nome é Cris \n"
          ]
        }
      ]
    },
    {
      "cell_type": "code",
      "source": [
        "polegadas = float(input(\"Quantas polegadas? \"))\n",
        "print(f\"{polegadas} polegadas equivalem a {polegadas * 25.4} milímetros.\")\n"
      ],
      "metadata": {
        "colab": {
          "base_uri": "https://localhost:8080/"
        },
        "id": "dC60jcIvPllf",
        "outputId": "c822299a-d79f-424b-ee6f-671eabeede96"
      },
      "execution_count": null,
      "outputs": [
        {
          "output_type": "stream",
          "name": "stdout",
          "text": [
            "Quantas polegadas? 1\n",
            "1.0 polegadas equivalem a 25.4 milímetros.\n"
          ]
        }
      ]
    },
    {
      "cell_type": "code",
      "source": [
        "nome = input(\"Maria Cristina Sousa \")\n",
        "\n",
        "sobrenome = nome.split()[-1]\n",
        "nome_de_batismo = nome.split()[0]\n",
        "\n",
        "print(f\"Seu nome é {sobrenome} {nome_de_batismo}.\")"
      ],
      "metadata": {
        "colab": {
          "base_uri": "https://localhost:8080/"
        },
        "id": "02O9jzwhRVsP",
        "outputId": "68952bb0-4eb1-4704-e572-ce78af56fde7"
      },
      "execution_count": null,
      "outputs": [
        {
          "output_type": "stream",
          "name": "stdout",
          "text": [
            "Maria Cristina Sousa Maria Sousa\n",
            "Seu nome é Sousa Maria.\n"
          ]
        }
      ]
    },
    {
      "cell_type": "code",
      "source": [
        "import math\n",
        "s1 = float(input(\"Digite o comprimento do lado 1: \"))\n",
        "s2 = float(input(\"Digite o comprimento do lado 2: \"))\n",
        "s3 = float(input(\"Digite o comprimento do lado 3: \"))\n",
        "t = (s1 + s2 + s3) / 2\n",
        "area = math.sqrt(t * (t - s1) * (t - s2) * (t - s3))\n",
        "print(f\"A área do triângulo é {area}.\")"
      ],
      "metadata": {
        "colab": {
          "base_uri": "https://localhost:8080/"
        },
        "id": "sMzFw4GqjXp1",
        "outputId": "912d4a03-fa5f-4ccf-b853-c313669b338a"
      },
      "execution_count": null,
      "outputs": [
        {
          "output_type": "stream",
          "name": "stdout",
          "text": [
            "Digite o comprimento do lado 1: 3\n",
            "Digite o comprimento do lado 2: 4\n",
            "Digite o comprimento do lado 3: 5\n",
            "A área do triângulo é 6.0.\n"
          ]
        }
      ]
    },
    {
      "cell_type": "code",
      "source": [
        "\n",
        "\n",
        "notas = [float(input(\"Digite a nota: \")) for i in range(4)]\n",
        "\n",
        "media = sum(notas) / len(notas)\n",
        "\n",
        "print(f\"A média aritmética é: {media:.2f}\")\n"
      ],
      "metadata": {
        "colab": {
          "base_uri": "https://localhost:8080/"
        },
        "id": "1NIjzLfFTnnw",
        "outputId": "178a2424-c6ea-49dc-945e-dab0a14b8ac6"
      },
      "execution_count": null,
      "outputs": [
        {
          "output_type": "stream",
          "name": "stdout",
          "text": [
            "Digite a nota: 8\n",
            "Digite a nota: 9\n",
            "Digite a nota: 7\n",
            "Digite a nota: 6\n",
            "A média aritmética é: 7.50\n"
          ]
        }
      ]
    },
    {
      "cell_type": "code",
      "source": [
        "def nome_completo(nome):\n",
        "\n",
        "\n",
        "  if not nome:\n",
        "    return \"\"\n",
        "\n",
        "  nomes = nome.split()\n",
        "  if len(nomes) < 2:\n",
        "    return nome\n",
        "\n",
        "  return nomes[-1] + \" \" + nomes[0]\n",
        "\n",
        "\n",
        "print(nome_completo(\"Maria Sousa\"))\n",
        "print(nome_completo(\"\"))\n",
        "print(nome_completo(\"Maria\"))"
      ],
      "metadata": {
        "colab": {
          "base_uri": "https://localhost:8080/"
        },
        "id": "wTgbmTT4riFJ",
        "outputId": "9c6670c9-7abc-4195-a5bc-b6294784c5ac"
      },
      "execution_count": null,
      "outputs": [
        {
          "output_type": "stream",
          "name": "stdout",
          "text": [
            "Sousa Maria\n",
            "\n",
            "Maria\n"
          ]
        }
      ]
    },
    {
      "cell_type": "code",
      "source": [
        "def calcula(numero1, numero2):\n",
        "    soma = numero1 + numero2\n",
        "    subtracao = numero1 - numero2\n",
        "    multiplicacao = numero1 * numero2\n",
        "    if numero2 != 0:\n",
        "        divisao = numero1 / numero2\n",
        "    else:\n",
        "        divisao = \"Erro: Divisão por zero não é permitida.\"\n",
        "\n",
        "    return soma, subtracao, multiplicacao, divisao\n",
        "\n",
        "\n",
        "soma, subtracao, multiplicacao, divisao = calcula(float(input(\"Digite o primeiro número: \")),\n",
        "                                                    float(input(\"Digite o segundo número: \")))\n",
        "\n",
        "print(f\"Soma: {soma}\")\n",
        "print(f\"Subtração: {subtracao}\")\n",
        "print(f\"Multiplicação: {multiplicacao}\")\n",
        "print(f\"Divisão: {divisao}\")"
      ],
      "metadata": {
        "colab": {
          "base_uri": "https://localhost:8080/"
        },
        "id": "ZE_5LKyUt9bm",
        "outputId": "e28a85ee-3a41-4676-b8cb-e365620761dd"
      },
      "execution_count": null,
      "outputs": [
        {
          "output_type": "stream",
          "name": "stdout",
          "text": [
            "Digite o primeiro número: 10\n",
            "Digite o segundo número: 0\n",
            "Soma: 10.0\n",
            "Subtração: 10.0\n",
            "Multiplicação: 0.0\n",
            "Divisão: Erro: Divisão por zero não é permitida.\n"
          ]
        }
      ]
    },
    {
      "cell_type": "code",
      "source": [
        "salario_atual = float(input(\"Digite o salário atual do funcionário: \"))\n",
        "\n",
        "reajuste = salario_atual * 0.15\n",
        "\n",
        "salario_reajustado = salario_atual + reajuste\n",
        "\n",
        "print(f\"O salário reajustado é de R$ {salario_reajustado:.2f}\")"
      ],
      "metadata": {
        "colab": {
          "base_uri": "https://localhost:8080/"
        },
        "id": "ay7401ZevHAJ",
        "outputId": "08916231-e9f5-4b74-a8fd-e844ac4c9b96"
      },
      "execution_count": null,
      "outputs": [
        {
          "output_type": "stream",
          "name": "stdout",
          "text": [
            "Digite o salário atual do funcionário: 1000\n",
            "O salário reajustado é de R$ 1150.00\n"
          ]
        }
      ]
    },
    {
      "cell_type": "code",
      "source": [
        "A = input(\"Digite o valor para A: \")\n",
        "B = input(\"Digite o valor para B: \")\n",
        "print(f\"Valores originais: A = {A}, B = {B}\")\n",
        "A, B = B, A\n",
        "print(f\"Valores trocados: A = {A}, B = {B}\")"
      ],
      "metadata": {
        "colab": {
          "base_uri": "https://localhost:8080/"
        },
        "id": "v0O-HbWkwYCt",
        "outputId": "e29fc514-a44f-4002-dd44-67df92fb598d"
      },
      "execution_count": null,
      "outputs": [
        {
          "output_type": "stream",
          "name": "stdout",
          "text": [
            "Digite o valor para A: 1\n",
            "Digite o valor para B: 0\n",
            "Valores originais: A = 1, B = 0\n",
            "Valores trocados: A = 0, B = 1\n"
          ]
        }
      ]
    },
    {
      "cell_type": "code",
      "source": [
        "cotacao_dolar = float(input(\"Digite a cotação do dólar (US$ para R$): \"))\n",
        "quantidade_dolares = float(input(\"Digite a quantidade de dólares: \"))\n",
        "\n",
        "valor_reais = quantidade_dolares * cotacao_dolar\n",
        "\n",
        "print(f\"{quantidade_dolares} dólares valem {valor_reais:.2f} reais.\")"
      ],
      "metadata": {
        "colab": {
          "base_uri": "https://localhost:8080/"
        },
        "id": "bAqxNnC_x4CQ",
        "outputId": "72a94753-99c1-452f-e15e-ef8ca0fa649b"
      },
      "execution_count": null,
      "outputs": [
        {
          "output_type": "stream",
          "name": "stdout",
          "text": [
            "Digite a cotação do dólar (US$ para R$): 5.50\n",
            "Digite a quantidade de dólares: 100\n",
            "100.0 dólares valem 550.00 reais.\n"
          ]
        }
      ]
    },
    {
      "cell_type": "code",
      "source": [],
      "metadata": {
        "id": "9pPI1M22x-pG"
      },
      "execution_count": null,
      "outputs": []
    },
    {
      "cell_type": "code",
      "source": [
        "valor_compra = float(input(\"Digite o valor total da compra: R$ \"))\n",
        "\n",
        "numero_prestacoes = input(\"Digite o número de prestações: \")\n",
        "numero_prestacoes = int(numero_prestacoes)\n",
        "\n",
        "valor_prestacao = valor_compra / numero_prestacoes\n",
        "\n",
        "print(f\"O valor de cada prestação será de: R$ {valor_prestacao:.2f}\")"
      ],
      "metadata": {
        "colab": {
          "base_uri": "https://localhost:8080/"
        },
        "id": "JpM5lJuS1rAI",
        "outputId": "1936d820-e7bd-47cb-8a5d-ba772f988997"
      },
      "execution_count": null,
      "outputs": [
        {
          "output_type": "stream",
          "name": "stdout",
          "text": [
            "Digite o valor total da compra: R$ 1000\n",
            "Digite o número de prestações: 5\n",
            "O valor de cada prestação será de: R$ 200.00\n"
          ]
        }
      ]
    }
  ]
}