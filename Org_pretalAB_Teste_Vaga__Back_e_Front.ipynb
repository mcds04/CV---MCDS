{
  "nbformat": 4,
  "nbformat_minor": 0,
  "metadata": {
    "colab": {
      "provenance": [],
      "authorship_tag": "ABX9TyOtzjvBzLVQ3ayCFBAzE7RV",
      "include_colab_link": true
    },
    "kernelspec": {
      "name": "python3",
      "display_name": "Python 3"
    },
    "language_info": {
      "name": "python"
    }
  },
  "cells": [
    {
      "cell_type": "markdown",
      "metadata": {
        "id": "view-in-github",
        "colab_type": "text"
      },
      "source": [
        "<a href=\"https://colab.research.google.com/github/mcds04/CV---MCDS/blob/main/Org_pretalAB_Teste_Vaga__Back_e_Front.ipynb\" target=\"_parent\"><img src=\"https://colab.research.google.com/assets/colab-badge.svg\" alt=\"Open In Colab\"/></a>"
      ]
    },
    {
      "cell_type": "code",
      "execution_count": 1,
      "metadata": {
        "colab": {
          "base_uri": "https://localhost:8080/"
        },
        "id": "FcmB4JvIgtlN",
        "outputId": "05274b61-30b3-4b9c-9607-cbd4d92ee89c"
      },
      "outputs": [
        {
          "output_type": "stream",
          "name": "stdout",
          "text": [
            "2\n",
            "27\n",
            "168\n"
          ]
        }
      ],
      "source": [
        "#Guerra dos Numeros\n",
        "def guerraDosNumeros(numeros):\n",
        "    soma_pares = sum(num for num in numeros if num % 2 == 0)\n",
        "    soma_impares = sum(num for num in numeros if num % 2 != 0)\n",
        "    return abs(soma_pares - soma_impares)\n",
        "\n",
        "print(guerraDosNumeros([2, 8, 7, 5]))  # ➞ 2\n",
        "print(guerraDosNumeros([12, 90, 75]))  # ➞ 27\n",
        "print(guerraDosNumeros([5, 9, 45, 6, 2, 7, 34, 8, 6, 90, 5, 243]))  # ➞ 168\n"
      ]
    },
    {
      "cell_type": "markdown",
      "source": [
        "Teste para uma vaga de Back end e front End , Projeto integrado : Python com AWS - JavaScript 1,2,3,E 4 ; Angular, Implementação de Software - Angular(Angula -  informações do formulário e armazenar em banco de dados)Back End em Java; Regra de negócio em java; Importação de software ; spring boot ; Versionamento de código"
      ],
      "metadata": {
        "id": "G3tGhxz71SPm"
      }
    },
    {
      "cell_type": "code",
      "source": [
        "# Teste Guerra dos Numeros\n",
        "def guerra_dos_numeros(matriz):\n",
        "\n",
        "  soma_pares = 0\n",
        "  soma_impares = 0\n",
        "\n",
        "  for numero in matriz:\n",
        "    if numero % 2 == 0:\n",
        "      soma_pares += numero\n",
        "    else:\n",
        "      soma_impares += numero\n",
        "\n",
        "  return soma_pares - soma_impares\n"
      ],
      "metadata": {
        "id": "JdmS9vlBhfIB"
      },
      "execution_count": 4,
      "outputs": []
    },
    {
      "cell_type": "code",
      "source": [
        "# Teste Guerra dos Numeros\n",
        "def guerra_dos_numeros(matriz):\n",
        "\n",
        "\n",
        "  if matriz == []:\n",
        "    return 0\n",
        "\n",
        "  soma_pares = 0\n",
        "  soma_impares = 0\n",
        "\n",
        "  for numero in matriz:\n",
        "    if numero % 2 == 0:\n",
        "      soma_pares += numero\n",
        "    else:\n",
        "      soma_impares += numero\n",
        "\n",
        "  return soma_pares - soma_impares\n"
      ],
      "metadata": {
        "id": "DaG9OV0iiffp"
      },
      "execution_count": 7,
      "outputs": []
    },
    {
      "cell_type": "markdown",
      "source": [
        "Crie uma função que receba uma matriz de números inteiros, some os números pares e ímpares separadamente e retorne a diferença entre a soma dos números pares e ímpares.\n",
        "Exemplo de saída:\n",
        "guerraDosNumeros([2, 8, 7, 5]) ➞ 2\n",
        "// 2 + 8 = 10\n",
        "// 7 + 5 = 12\n",
        "// 12 é maior que 10\n",
        "// Então, retornamos 12 - 10 = 2\n",
        "guerraDosNumeros([12, 90, 75]) ➞ 27\n",
        "guerraDosNumeros([5, 9, 45, 6, 2, 7, 34, 8, 6, 90, 5, 243]) ➞ 168\n",
        "Observação:\n",
        "A matriz fornecida contém apenas números inteiros positivos\n"
      ],
      "metadata": {
        "id": "2w03vCokm8uD"
      }
    },
    {
      "cell_type": "code",
      "source": [
        "def guerraDosNumeros(matriz):\n",
        "    soma_pares = sum(num for num in matriz if num % 2 == 0)\n",
        "    soma_impares = sum(num for num in matriz if num % 2 != 0)\n",
        "    diferenca = abs(soma_impares - soma_pares)\n",
        "    return diferenca\n",
        "\n",
        "print(guerraDosNumeros([2, 8, 7, 5]))\n",
        "print(guerraDosNumeros([12, 90, 75]))\n",
        "print(guerraDosNumeros([5, 9, 45, 6, 2, 7, 34, 8, 6, 90, 5, 243]))\n"
      ],
      "metadata": {
        "colab": {
          "base_uri": "https://localhost:8080/"
        },
        "id": "VnwA7rignNhC",
        "outputId": "e9459a10-da6a-4dc2-90e6-594500521c50"
      },
      "execution_count": 8,
      "outputs": [
        {
          "output_type": "stream",
          "name": "stdout",
          "text": [
            "2\n",
            "27\n",
            "168\n"
          ]
        }
      ]
    },
    {
      "cell_type": "markdown",
      "source": [],
      "metadata": {
        "id": "_64b44ZC1PEf"
      }
    }
  ]
}