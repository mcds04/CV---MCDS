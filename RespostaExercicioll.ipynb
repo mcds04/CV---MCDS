{
  "nbformat": 4,
  "nbformat_minor": 0,
  "metadata": {
    "colab": {
      "provenance": [],
      "authorship_tag": "ABX9TyMY1val0iQwDLnoPClL3VE0",
      "include_colab_link": true
    },
    "kernelspec": {
      "name": "python3",
      "display_name": "Python 3"
    },
    "language_info": {
      "name": "python"
    }
  },
  "cells": [
    {
      "cell_type": "markdown",
      "metadata": {
        "id": "view-in-github",
        "colab_type": "text"
      },
      "source": [
        "<a href=\"https://colab.research.google.com/github/mcds04/CV---MCDS/blob/main/RespostaExercicioll.ipynb\" target=\"_parent\"><img src=\"https://colab.research.google.com/assets/colab-badge.svg\" alt=\"Open In Colab\"/></a>"
      ]
    },
    {
      "cell_type": "code",
      "source": [
        "#Questão 1\n",
        "import math\n",
        "\n",
        "def calcular_distancia(x1, y1, x2, y2):\n",
        "    return math.sqrt((x2 - x1)**2 + (y2 - y1)**2)\n",
        "\n",
        "\n",
        "x1 = float(input(\"Digite o valor de x1: \"))\n",
        "y1 = float(input(\"Digite o valor de y1: \"))\n",
        "\n",
        "x2 = float(input(\"Digite o valor de x2: \"))\n",
        "y2 = float(input(\"Digite o valor de y2: \"))\n",
        "\n",
        "\n",
        "distancia = calcular_distancia(x1, y1, x2, y2)\n",
        "print(f\"A distância entre os pontos P({x1}, {y1}) e P({x2}, {y2}) é: {distancia}\")\n"
      ],
      "metadata": {
        "id": "U4g8YnZenUQX"
      },
      "execution_count": null,
      "outputs": []
    },
    {
      "cell_type": "code",
      "source": [
        "#Questão2\n",
        "\n",
        "def calcular_media_ponderada(nota1, nota2, nota3, peso1, peso2, peso3):\n",
        "    return (nota1 * peso1 + nota2 * peso2 + nota3 * peso3) / (peso1 + peso2 + peso3)\n",
        "\n",
        "nota1 = float(input(\"Digite a primeira nota: \"))\n",
        "nota2 = float(input(\"Digite a segunda nota: \"))\n",
        "nota3 = float(input(\"Digite a terceira nota: \"))\n",
        "\n",
        "peso1 = 2\n",
        "peso2 = 3\n",
        "peso3 = 5\n",
        "\n",
        "media = calcular_media_ponderada(nota1, nota2, nota3, peso1, peso2, peso3)\n",
        "print(f\"A média final do aluno é: {media:.2f}\")\n"
      ],
      "metadata": {
        "colab": {
          "base_uri": "https://localhost:8080/"
        },
        "id": "ChJMCtZZnxYI",
        "outputId": "68b545e5-9f6d-4374-9916-9aa9969e02a6"
      },
      "execution_count": 8,
      "outputs": [
        {
          "output_type": "stream",
          "name": "stdout",
          "text": [
            "Digite a primeira nota: 8\n",
            "Digite a segunda nota: 9\n",
            "Digite a terceira nota: 10\n",
            "A média final do aluno é: 9.30\n"
          ]
        }
      ]
    },
    {
      "cell_type": "code",
      "source": [
        "# Questão 2.1\n",
        "def calcular_tempo_economia(valor_bicicleta, economia_mensal):\n",
        "    return valor_bicicleta / economia_mensal\n",
        "\n",
        "valor_bicicleta = 75000.00  # R$\n",
        "economia_mensal = 2300.00   # R$ por mês\n",
        "\n",
        "meses = calcular_tempo_economia(valor_bicicleta, economia_mensal)\n",
        "\n",
        "meses_arredondados = round(meses)\n",
        "\n",
        "print(f\"Serão necessários {meses_arredondados} meses para economizar R$ {valor_bicicleta:.2f} e comprar a bicicleta.\")\n"
      ],
      "metadata": {
        "colab": {
          "base_uri": "https://localhost:8080/"
        },
        "id": "b-ke5yjHq6F5",
        "outputId": "55c39b99-f950-491b-ef57-ab801f983544"
      },
      "execution_count": 10,
      "outputs": [
        {
          "output_type": "stream",
          "name": "stdout",
          "text": [
            "Serão necessários 33 meses para economizar R$ 75000.00 e comprar a bicicleta.\n"
          ]
        }
      ]
    },
    {
      "cell_type": "code",
      "source": [
        "# Questão 3\n",
        "def ajustar_salario(salario_bruto, percentual_aumento):\n",
        "    aumento = salario_bruto * (percentual_aumento / 100)\n",
        "    return salario_bruto + aumento\n",
        "\n",
        "salario_bruto = 3400.00  # R$\n",
        "percentual_aumento = 13.45  # %\n",
        "\n",
        "salario_ajustado = ajustar_salario(salario_bruto, percentual_aumento)\n",
        "\n",
        "print(f\"O salário ajustado é de R$ {salario_ajustado:.2f}\")\n"
      ],
      "metadata": {
        "colab": {
          "base_uri": "https://localhost:8080/"
        },
        "id": "4sudvbYXryuZ",
        "outputId": "aebc9ec5-ef9a-458b-f071-dd021794df31"
      },
      "execution_count": 11,
      "outputs": [
        {
          "output_type": "stream",
          "name": "stdout",
          "text": [
            "O salário ajustado é de R$ 3857.30\n"
          ]
        }
      ]
    },
    {
      "cell_type": "code",
      "source": [
        "# Questão 3.2\n",
        "def calcular_area_circunferencia(raio):\n",
        "    pi = 3.14159\n",
        "    return pi * (raio ** 2)\n",
        "\n",
        "raio = float(input(\"Digite o valor do raio: \"))\n",
        "\n",
        "area = calcular_area_circunferencia(raio)\n",
        "\n",
        "print(f\"A área da circunferência é: {area:.2f}\")\n"
      ],
      "metadata": {
        "colab": {
          "base_uri": "https://localhost:8080/"
        },
        "id": "XrKQO1qlskN2",
        "outputId": "3ce8f536-fcb5-411d-ac71-4e94a4acf7c1"
      },
      "execution_count": 12,
      "outputs": [
        {
          "output_type": "stream",
          "name": "stdout",
          "text": [
            "Digite o valor do raio: 5\n",
            "A área da circunferência é: 78.54\n"
          ]
        }
      ]
    },
    {
      "cell_type": "code",
      "source": [
        "# Questão 3.3\n",
        "def calcular_area_triangulo(base, altura):\n",
        "    return (base * altura) / 2\n",
        "\n",
        "base = float(input(\"Digite o valor da base: \"))\n",
        "altura = float(input(\"Digite o valor da altura: \"))\n",
        "\n",
        "area_triangulo = calcular_area_triangulo(base, altura)\n",
        "\n",
        "print(f\"A área do triângulo é: {area_triangulo:.2f}\")\n"
      ],
      "metadata": {
        "colab": {
          "base_uri": "https://localhost:8080/"
        },
        "id": "1gZTYN4ytV7Z",
        "outputId": "addf66df-a52b-418f-9613-19ee1902123c"
      },
      "execution_count": 13,
      "outputs": [
        {
          "output_type": "stream",
          "name": "stdout",
          "text": [
            "Digite o valor da base: 5\n",
            "Digite o valor da altura: 3\n",
            "A área do triângulo é: 7.50\n"
          ]
        }
      ]
    }
  ]
}