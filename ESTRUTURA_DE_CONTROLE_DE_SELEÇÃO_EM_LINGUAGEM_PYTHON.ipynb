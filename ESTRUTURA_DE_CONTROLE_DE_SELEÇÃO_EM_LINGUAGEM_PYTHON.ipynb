{
  "nbformat": 4,
  "nbformat_minor": 0,
  "metadata": {
    "colab": {
      "provenance": [],
      "toc_visible": true,
      "authorship_tag": "ABX9TyOp+gtBGUfCW+Y6oMRj7Dwj",
      "include_colab_link": true
    },
    "kernelspec": {
      "name": "python3",
      "display_name": "Python 3"
    },
    "language_info": {
      "name": "python"
    }
  },
  "cells": [
    {
      "cell_type": "markdown",
      "metadata": {
        "id": "view-in-github",
        "colab_type": "text"
      },
      "source": [
        "<a href=\"https://colab.research.google.com/github/mcds04/CV---MCDS/blob/main/ESTRUTURA_DE_CONTROLE_DE_SELE%C3%87%C3%83O_EM_LINGUAGEM_PYTHON.ipynb\" target=\"_parent\"><img src=\"https://colab.research.google.com/assets/colab-badge.svg\" alt=\"Open In Colab\"/></a>"
      ]
    },
    {
      "cell_type": "code",
      "execution_count": 49,
      "metadata": {
        "colab": {
          "base_uri": "https://localhost:8080/"
        },
        "id": "AlclCE6-0OGk",
        "outputId": "ffdcbefd-7ce4-4575-bdb4-025b4e9ff778"
      },
      "outputs": [
        {
          "output_type": "stream",
          "name": "stdout",
          "text": [
            "Por favor, insira sua idade: 41\n",
            "Sua idade é: 41 anos\n",
            "O valor do plano de saúde é: R$ 120.00\n"
          ]
        }
      ],
      "source": [
        "# Questão 1\n",
        "idade = int(input(\"Por favor, insira sua idade: \"))\n",
        "\n",
        "print(f\"Sua idade é: {idade} anos\")\n",
        "\n",
        "if idade <= 30:\n",
        "    valor = 90.00\n",
        "elif idade > 30 and idade <= 60:\n",
        "    valor = 120.00\n",
        "else:\n",
        "    valor = 150.00\n",
        "\n",
        "print(f\"O valor do plano de saúde é: R$ {valor:.2f}\")\n"
      ]
    },
    {
      "cell_type": "code",
      "source": [
        "# Questão 2\n",
        "salario = float(input(\"Por favor, insira o salário do funcionário: R$ \"))\n",
        "tempo_servico = int(input(\"Por favor, insira o tempo de serviço do funcionário (em anos): \"))\n",
        "\n",
        "if tempo_servico >= 5:\n",
        "    bonus = salario * 0.30\n",
        "else:\n",
        "    bonus = salario * 0.15\n",
        "\n",
        "salario_total = salario + bonus\n",
        "\n",
        "print(f\"O valor do bônus é: R$ {bonus:.2f}\")\n",
        "print(f\"O salário total recebido pelo funcionário é: R$ {salario_total:.2f}\")\n"
      ],
      "metadata": {
        "colab": {
          "base_uri": "https://localhost:8080/"
        },
        "id": "6c-UDpiu0__1",
        "outputId": "cd33c010-f9f8-46f8-9497-b962b6e4d0b5"
      },
      "execution_count": 5,
      "outputs": [
        {
          "output_type": "stream",
          "name": "stdout",
          "text": [
            "Por favor, insira o salário do funcionário: R$ 10.000\n",
            "Por favor, insira o tempo de serviço do funcionário (em anos): 10\n",
            "O valor do bônus é: R$ 3.00\n",
            "O salário total recebido pelo funcionário é: R$ 13.00\n"
          ]
        }
      ]
    },
    {
      "cell_type": "code",
      "source": [
        "# Questão 3\n",
        "idade = int(input(\"Por favor, insira sua idade: \"))\n",
        "valor_emprestimo = float(input(\"Por favor, insira o valor do empréstimo desejado: R$ \"))\n",
        "salario = float(input(\"Por favor, insira o salário do solicitante: R$ \"))\n",
        "\n",
        "if idade > 18 and valor_emprestimo <= salario * 0.40:\n",
        "    print(\"Empréstimo APROVADO.\")\n",
        "else:\n",
        "    print(\"Empréstimo NÃO APROVADO.\")\n"
      ],
      "metadata": {
        "colab": {
          "base_uri": "https://localhost:8080/"
        },
        "id": "dUt3I9ZV2FV8",
        "outputId": "3833fe01-7aee-4d92-a666-50db2ea5ae00"
      },
      "execution_count": 13,
      "outputs": [
        {
          "output_type": "stream",
          "name": "stdout",
          "text": [
            "Por favor, insira sua idade: 30\n",
            "Por favor, insira o valor do empréstimo desejado: R$ 1.000\n",
            "Por favor, insira o salário do solicitante: R$ 5.000\n",
            "Empréstimo APROVADO.\n"
          ]
        }
      ]
    },
    {
      "cell_type": "code",
      "source": [
        "# Questão 4\n",
        "lado1 = float(input(\"Por favor, insira o valor do primeiro lado do triângulo: \"))\n",
        "lado2 = float(input(\"Por favor, insira o valor do segundo lado do triângulo: \"))\n",
        "lado3 = float(input(\"Por favor, insira o valor do terceiro lado do triângulo: \"))\n",
        "\n",
        "if lado1 < lado2 + lado3 and lado2 < lado1 + lado3 and lado3 < lado1 + lado2:\n",
        "\n",
        "    if lado1 == lado2 == lado3:\n",
        "        print(\"O triângulo é Equilátero.\")\n",
        "    elif lado1 == lado2 or lado1 == lado3 or lado2 == lado3:\n",
        "        print(\"O triângulo é Isósceles.\")\n",
        "    else:\n",
        "        print(\"O triângulo é Escaleno.\")\n",
        "else:\n",
        "    print(\"Os valores informados não formam um triângulo.\")\n"
      ],
      "metadata": {
        "colab": {
          "base_uri": "https://localhost:8080/"
        },
        "id": "9Bj5JjJf3z-H",
        "outputId": "320ec6bd-18ea-41cd-f277-9195f61e8855"
      },
      "execution_count": 14,
      "outputs": [
        {
          "output_type": "stream",
          "name": "stdout",
          "text": [
            "Por favor, insira o valor do primeiro lado do triângulo: 3\n",
            "Por favor, insira o valor do segundo lado do triângulo: 4\n",
            "Por favor, insira o valor do terceiro lado do triângulo: 5\n",
            "O triângulo é Escaleno.\n"
          ]
        }
      ]
    },
    {
      "cell_type": "code",
      "source": [
        "# Questão 5\n",
        "distancia = float(input(\"Por favor, insira a distância da viagem em km: \"))\n",
        "\n",
        "if distancia <= 200:\n",
        "    preco = distancia * 0.50\n",
        "else:\n",
        "    preco = distancia * 0.45\n",
        "\n",
        "print(f\"O preço da passagem é: R$ {preco:.2f}\")\n"
      ],
      "metadata": {
        "colab": {
          "base_uri": "https://localhost:8080/"
        },
        "id": "jqO_j8CZ4cK9",
        "outputId": "edea6642-427e-453b-9b7b-4bdc9a28bec3"
      },
      "execution_count": 15,
      "outputs": [
        {
          "output_type": "stream",
          "name": "stdout",
          "text": [
            "Por favor, insira a distância da viagem em km: 100\n",
            "O preço da passagem é: R$ 50.00\n"
          ]
        }
      ]
    },
    {
      "cell_type": "code",
      "source": [
        "# Questão 6\n",
        "codigo = int(input(\"Por favor, insira o código do produto: \"))\n",
        "\n",
        "classificacao = {\n",
        "    1: \"Alimento Não-Perecível\",\n",
        "    2: \"Alimento Perecível\",\n",
        "    3: \"Vestuário\",\n",
        "    4: \"Higiene Pessoal\",\n",
        "    5: \"Utensílios Domésticos\"\n",
        "}\n",
        "\n",
        "if codigo in classificacao:\n",
        "    print(f\"A classificação do produto é: {classificacao[codigo]}\")\n",
        "else:\n",
        "    print(\"Código Inválido\")\n"
      ],
      "metadata": {
        "colab": {
          "base_uri": "https://localhost:8080/"
        },
        "id": "QN3N5bQD4vTs",
        "outputId": "b1ed2170-199d-42de-957e-34eb9b189e51"
      },
      "execution_count": 21,
      "outputs": [
        {
          "output_type": "stream",
          "name": "stdout",
          "text": [
            "Por favor, insira o código do produto: 0\n",
            "Código Inválido\n"
          ]
        }
      ]
    },
    {
      "cell_type": "code",
      "source": [
        "# Questão 7\n",
        "palestras = {\n",
        "    1: {\"tema\": \"Lógica de Programação\", \"local\": \"Sala 05 - Prédio Central\", \"horario\": \"8h às 9h\"},\n",
        "    2: {\"tema\": \"Combate às Drogas\", \"local\": \"Anfiteatro - Prédio Central\", \"horario\": \"9h às 10h\"},\n",
        "    3: {\"tema\": \"Acessibilidade nas Universidades\", \"local\": \"Auditório - Prédio Central\", \"horario\": \"10h às 11h\"},\n",
        "    4: {\"tema\": \"Fruticultura\", \"local\": \"Pavilhão - Sala 101\", \"horario\": \"14h às 15h\"}\n",
        "}\n",
        "\n",
        "codigo = int(input(\"Por favor, insira o código da palestra: \"))\n",
        "\n",
        "if codigo in palestras:\n",
        "    palestra = palestras[codigo]\n",
        "    print(f\"Palestra: {palestra['tema']}\")\n",
        "    print(f\"Local: {palestra['local']}\")\n",
        "    print(f\"Horário: {palestra['horario']}\")\n",
        "else:\n",
        "    print(\"Código inválido. Por favor, insira um código entre 1 e 4.\")\n"
      ],
      "metadata": {
        "colab": {
          "base_uri": "https://localhost:8080/"
        },
        "id": "OYFF8Sun5kPi",
        "outputId": "4b892af7-9688-40f6-c4bd-ce8858798c57"
      },
      "execution_count": 47,
      "outputs": [
        {
          "output_type": "stream",
          "name": "stdout",
          "text": [
            "Por favor, insira o código da palestra: 4\n",
            "Palestra: Fruticultura\n",
            "Local: Pavilhão - Sala 101\n",
            "Horário: 14h às 15h\n"
          ]
        }
      ]
    },
    {
      "cell_type": "code",
      "source": [
        "#Questão 8\n",
        "frutas = {\n",
        "    'a': {'nome': 'Abacate', 'preco': 8.99},\n",
        "    'b': {'nome': 'Banana', 'preco': 5.98},\n",
        "    'u': {'nome': 'Uva', 'preco': 8.45},\n",
        "    'm': {'nome': 'Morango', 'preco': 10.00}\n",
        "}\n",
        "\n",
        "codigo_fruta = input(\"Por favor, insira o código da fruta: \").lower()\n",
        "\n",
        "if codigo_fruta in frutas:\n",
        "    fruta = frutas[codigo_fruta]\n",
        "    print(f\"Fruta: {fruta['nome']}\")\n",
        "    print(f\"Preço por kg: R$ {fruta['preco']:.2f}\")\n",
        "else:\n",
        "    print(\"Código inválido. Por favor, insira um código válido (a, b, u, m).\")\n"
      ],
      "metadata": {
        "colab": {
          "base_uri": "https://localhost:8080/"
        },
        "id": "DZMnuiem6ReK",
        "outputId": "c42ba4ca-c04a-4c01-d715-c7afe47a64f0"
      },
      "execution_count": 30,
      "outputs": [
        {
          "output_type": "stream",
          "name": "stdout",
          "text": [
            "Por favor, insira o código da fruta: m\n",
            "Fruta: Morango\n",
            "Preço por kg: R$ 10.00\n"
          ]
        }
      ]
    },
    {
      "cell_type": "code",
      "source": [
        "# Questaõ 9\n",
        "menu = {\n",
        "    1: {'prato': 'Picanha', 'valor': 100.00},\n",
        "    2: {'prato': 'Lasanha', 'valor': 40.00},\n",
        "    3: {'prato': 'Strogonoff', 'valor': 58.00},\n",
        "    4: {'prato': 'Bife Acebolado', 'valor': 40.00},\n",
        "    5: {'prato': 'Pão com ovo', 'valor': 10.00}\n",
        "}\n",
        "\n",
        "def exibir_menu():\n",
        "    print(\"MENU DO RESTAURANTE\")\n",
        "    for codigo, item in menu.items():\n",
        "        print(f\"{codigo}. {item['prato']} - R$ {item['valor']:.2f}\")\n",
        "    escolha = int(input(\"Por favor, escolha uma opção do menu pelo código: \"))\n",
        "    return escolha\n",
        "\n",
        "def processar_escolha(escolha):\n",
        "    if escolha in menu:\n",
        "        prato_escolhido = menu[escolha]\n",
        "        print(f\"Você escolheu: {prato_escolhido['prato']}\")\n",
        "        print(f\"Valor a pagar: R$ {prato_escolhido['valor']:.2f}\")\n",
        "    else:\n",
        "        print(\"Código inválido. Por favor, escolha um código válido do menu.\")\n",
        "\n",
        "escolha_usuario = exibir_menu()\n",
        "processar_escolha(escolha_usuario)\n"
      ],
      "metadata": {
        "colab": {
          "base_uri": "https://localhost:8080/"
        },
        "id": "gVq5emhc64cg",
        "outputId": "3b269606-a299-4b35-cb43-2aaf74bad562"
      },
      "execution_count": 35,
      "outputs": [
        {
          "output_type": "stream",
          "name": "stdout",
          "text": [
            "MENU DO RESTAURANTE\n",
            "1. Picanha - R$ 100.00\n",
            "2. Lasanha - R$ 40.00\n",
            "3. Strogonoff - R$ 58.00\n",
            "4. Bife Acebolado - R$ 40.00\n",
            "5. Pão com ovo - R$ 10.00\n",
            "Por favor, escolha uma opção do menu pelo código: 5\n",
            "Você escolheu: Pão com ovo\n",
            "Valor a pagar: R$ 10.00\n"
          ]
        }
      ]
    },
    {
      "cell_type": "code",
      "source": [
        "# Questão 10\n",
        "codigo = int(input(\"Por favor, insira o código do dia da semana: \"))\n",
        "\n",
        "if codigo == 1:\n",
        "    dia_semana = \"Domingo\"\n",
        "elif codigo == 2:\n",
        "    dia_semana = \"Segunda-feira\"\n",
        "elif codigo == 3:\n",
        "    dia_semana = \"Terça-feira\"\n",
        "elif codigo == 4:\n",
        "    dia_semana = \"Quarta-feira\"\n",
        "elif codigo == 5:\n",
        "    dia_semana = \"Quinta-feira\"\n",
        "elif codigo == 6:\n",
        "    dia_semana = \"Sexta-feira\"\n",
        "elif codigo == 7:\n",
        "    dia_semana = \"Sábado\"\n",
        "else:\n",
        "    dia_semana = \"Inválido\"\n",
        "\n",
        "print(f\"O dia da semana é: {dia_semana}\")\n"
      ],
      "metadata": {
        "colab": {
          "base_uri": "https://localhost:8080/"
        },
        "id": "9hbvsAee77s-",
        "outputId": "ded0e9d6-036f-4603-ebbb-124f4f023271"
      },
      "execution_count": 48,
      "outputs": [
        {
          "output_type": "stream",
          "name": "stdout",
          "text": [
            "Por favor, insira o código do dia da semana: 2\n",
            "O dia da semana é: Segunda-feira\n"
          ]
        }
      ]
    }
  ]
}